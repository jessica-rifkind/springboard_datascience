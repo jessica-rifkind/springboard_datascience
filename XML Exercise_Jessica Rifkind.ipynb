{
 "cells": [
  {
   "cell_type": "code",
   "execution_count": 1,
   "metadata": {
    "collapsed": true
   },
   "outputs": [],
   "source": [
    "from xml.etree import ElementTree as ET"
   ]
  },
  {
   "cell_type": "code",
   "execution_count": 2,
   "metadata": {
    "collapsed": false
   },
   "outputs": [
    {
     "data": {
      "text/plain": [
       "<xml.etree.ElementTree.ElementTree at 0x10c39cf50>"
      ]
     },
     "execution_count": 2,
     "metadata": {},
     "output_type": "execute_result"
    }
   ],
   "source": [
    "document_tree = ET.parse( '/Users/jessica/Documents/data_wrangling_xml/data/mondial_database.xml' )\n",
    "document_tree"
   ]
  },
  {
   "cell_type": "code",
   "execution_count": 3,
   "metadata": {
    "collapsed": false
   },
   "outputs": [
    {
     "data": {
      "text/html": [
       "<div>\n",
       "<table border=\"1\" class=\"dataframe\">\n",
       "  <thead>\n",
       "    <tr style=\"text-align: right;\">\n",
       "      <th></th>\n",
       "      <th>country</th>\n",
       "      <th>infant_mortality_rate</th>\n",
       "    </tr>\n",
       "  </thead>\n",
       "  <tbody>\n",
       "    <tr>\n",
       "      <th>34</th>\n",
       "      <td>Monaco</td>\n",
       "      <td>1.81</td>\n",
       "    </tr>\n",
       "    <tr>\n",
       "      <th>210</th>\n",
       "      <td>Japan</td>\n",
       "      <td>2.13</td>\n",
       "    </tr>\n",
       "    <tr>\n",
       "      <th>71</th>\n",
       "      <td>Norway</td>\n",
       "      <td>2.48</td>\n",
       "    </tr>\n",
       "    <tr>\n",
       "      <th>64</th>\n",
       "      <td>Bermuda</td>\n",
       "      <td>2.48</td>\n",
       "    </tr>\n",
       "    <tr>\n",
       "      <th>76</th>\n",
       "      <td>Singapore</td>\n",
       "      <td>2.53</td>\n",
       "    </tr>\n",
       "    <tr>\n",
       "      <th>106</th>\n",
       "      <td>Sweden</td>\n",
       "      <td>2.60</td>\n",
       "    </tr>\n",
       "    <tr>\n",
       "      <th>55</th>\n",
       "      <td>Czech Republic</td>\n",
       "      <td>2.63</td>\n",
       "    </tr>\n",
       "    <tr>\n",
       "      <th>143</th>\n",
       "      <td>Hong Kong</td>\n",
       "      <td>2.73</td>\n",
       "    </tr>\n",
       "    <tr>\n",
       "      <th>52</th>\n",
       "      <td>Macao</td>\n",
       "      <td>3.13</td>\n",
       "    </tr>\n",
       "    <tr>\n",
       "      <th>189</th>\n",
       "      <td>Iceland</td>\n",
       "      <td>3.15</td>\n",
       "    </tr>\n",
       "  </tbody>\n",
       "</table>\n",
       "</div>"
      ],
      "text/plain": [
       "            country  infant_mortality_rate\n",
       "34           Monaco                   1.81\n",
       "210           Japan                   2.13\n",
       "71           Norway                   2.48\n",
       "64          Bermuda                   2.48\n",
       "76        Singapore                   2.53\n",
       "106          Sweden                   2.60\n",
       "55   Czech Republic                   2.63\n",
       "143       Hong Kong                   2.73\n",
       "52            Macao                   3.13\n",
       "189         Iceland                   3.15"
      ]
     },
     "execution_count": 3,
     "metadata": {},
     "output_type": "execute_result"
    }
   ],
   "source": [
    "#Find 10 countries with the lowest infant mortality rates\n",
    "#Build an empty dictionary\n",
    "import pandas as pd\n",
    "answer1_dict = {}\n",
    "#Iterate through each country element of the elment tree. Find the infant mortality rate subelement and assign it a variable\n",
    "#If that variable isn't none, build a dictionary with key = name.text subelement of country and value = infant mortality rate.text subelement of country \n",
    "for country in document_tree.iterfind('country'):\n",
    "    inf_mo = country.find('infant_mortality')\n",
    "    if inf_mo is not None:\n",
    "        answer1_dict[country.find('name').text] = float(inf_mo.text)\n",
    "#Build a dataframe of the for loop tuples and name the headers\n",
    "df = pd.DataFrame(answer1_dict.items(), columns=['country', 'infant_mortality_rate'])\n",
    "#Sort to show the lowest 10 infant mortality rates\n",
    "df.sort_values('infant_mortality_rate').head(10)"
   ]
  },
  {
   "cell_type": "code",
   "execution_count": 4,
   "metadata": {
    "collapsed": false
   },
   "outputs": [
    {
     "data": {
      "text/html": [
       "<div>\n",
       "<table border=\"1\" class=\"dataframe\">\n",
       "  <thead>\n",
       "    <tr style=\"text-align: right;\">\n",
       "      <th></th>\n",
       "      <th>id</th>\n",
       "      <th>name</th>\n",
       "      <th>population_2011</th>\n",
       "    </tr>\n",
       "  </thead>\n",
       "  <tbody>\n",
       "    <tr>\n",
       "      <th>1527</th>\n",
       "      <td>cty-India-2</td>\n",
       "      <td>Mumbai</td>\n",
       "      <td>12442373.0</td>\n",
       "    </tr>\n",
       "    <tr>\n",
       "      <th>1582</th>\n",
       "      <td>cty-India-New-Delhi</td>\n",
       "      <td>Delhi</td>\n",
       "      <td>11034555.0</td>\n",
       "    </tr>\n",
       "    <tr>\n",
       "      <th>1515</th>\n",
       "      <td>cty-India-Bangalore</td>\n",
       "      <td>Bangalore</td>\n",
       "      <td>8443675.0</td>\n",
       "    </tr>\n",
       "    <tr>\n",
       "      <th>1000</th>\n",
       "      <td>cty-United-Kingdom-2</td>\n",
       "      <td>London</td>\n",
       "      <td>8250205.0</td>\n",
       "    </tr>\n",
       "    <tr>\n",
       "      <th>1382</th>\n",
       "      <td>cty-Iran-Tehran</td>\n",
       "      <td>Tehran</td>\n",
       "      <td>8154051.0</td>\n",
       "    </tr>\n",
       "    <tr>\n",
       "      <th>1470</th>\n",
       "      <td>cty-BD-3</td>\n",
       "      <td>Dhaka</td>\n",
       "      <td>7423137.0</td>\n",
       "    </tr>\n",
       "    <tr>\n",
       "      <th>1591</th>\n",
       "      <td>cty-India-7</td>\n",
       "      <td>Hyderabad</td>\n",
       "      <td>6731790.0</td>\n",
       "    </tr>\n",
       "    <tr>\n",
       "      <th>1505</th>\n",
       "      <td>cty-India-8</td>\n",
       "      <td>Ahmadabad</td>\n",
       "      <td>5577940.0</td>\n",
       "    </tr>\n",
       "    <tr>\n",
       "      <th>3056</th>\n",
       "      <td>cty-Angola-Luanda</td>\n",
       "      <td>Luanda</td>\n",
       "      <td>5000000.0</td>\n",
       "    </tr>\n",
       "    <tr>\n",
       "      <th>1556</th>\n",
       "      <td>cty-India-Madras</td>\n",
       "      <td>Chennai</td>\n",
       "      <td>4646732.0</td>\n",
       "    </tr>\n",
       "  </tbody>\n",
       "</table>\n",
       "</div>"
      ],
      "text/plain": [
       "                        id       name  population_2011\n",
       "1527           cty-India-2     Mumbai       12442373.0\n",
       "1582   cty-India-New-Delhi      Delhi       11034555.0\n",
       "1515   cty-India-Bangalore  Bangalore        8443675.0\n",
       "1000  cty-United-Kingdom-2     London        8250205.0\n",
       "1382       cty-Iran-Tehran     Tehran        8154051.0\n",
       "1470              cty-BD-3      Dhaka        7423137.0\n",
       "1591           cty-India-7  Hyderabad        6731790.0\n",
       "1505           cty-India-8  Ahmadabad        5577940.0\n",
       "3056     cty-Angola-Luanda     Luanda        5000000.0\n",
       "1556      cty-India-Madras    Chennai        4646732.0"
      ]
     },
     "execution_count": 4,
     "metadata": {},
     "output_type": "execute_result"
    }
   ],
   "source": [
    "#10 cities with the largest population\n",
    "#Create blank list\n",
    "list = []\n",
    "#Find all the cities, for each assign the name of the city and the 2011 population to variables and each time appent those variables to the list\n",
    "for city in document_tree.findall('.//city'):\n",
    "    name = city.find('name')\n",
    "    if name is not None:\n",
    "        name=name.text\n",
    "    #Need to go back and figure out how to insert the last year listed\n",
    "    population = city.find('population[@year=\"2011\"]')\n",
    "    if population is not None:\n",
    "        population=int(population.text)\n",
    "    list.append([city.attrib['id'],name, population])\n",
    "#Convert the list to a dataframe and give it column headers, then sort descending\n",
    "df = pd.DataFrame(list, columns=['id', 'name', 'population_2011'])\n",
    "df.sort_values('population_2011', ascending=False).head(10)"
   ]
  },
  {
   "cell_type": "code",
   "execution_count": 8,
   "metadata": {
    "collapsed": false
   },
   "outputs": [
    {
     "name": "stdout",
     "output_type": "stream",
     "text": [
      "                               0\n",
      "Han Chinese     1,245,058,800.00\n",
      "Indo-Aryan        871,815,583.44\n",
      "European          494,872,219.72\n",
      "African           318,325,120.37\n",
      "Dravidian         302,713,744.25\n",
      "Mestizo           157,734,354.94\n",
      "Bengali           146,776,916.72\n",
      "Russian           131,856,996.08\n",
      "Japanese          126,534,212.00\n",
      "Malay             121,993,550.37\n"
     ]
    }
   ],
   "source": [
    "import numpy as np\n",
    "#10 ethnic groups with the largest overall populations (sum of best/latest estimates over all countries)\n",
    "ethnicgroups = dict()\n",
    "#Start with looking at each each country object\n",
    "for country in document_tree.iterfind('country'):\n",
    "#Create an empty list and iterate through each country's populations adding the year and the population number \n",
    "    populations = []\n",
    "    for population in country.findall('population'):\n",
    "        populations.append((int(population.get('year')), int(population.text)))\n",
    "#From the list take the max population\n",
    "        max_population = max(populations)[1]\n",
    "#Iterate through the ethnic groups and multiply the ethnic group's % by the max population to get an absolute ethnic group poulation\n",
    "    for ethnicgroup in country.findall('ethnicgroup'):\n",
    "        population_ethnic_group = (float(ethnicgroup.get('percentage')) * max_population / 100)\n",
    "        ethnicgroups[ethnicgroup.text] = ethnicgroups.setdefault(ethnicgroup.text, 0) + population_ethnic_group\n",
    "#Convert this list of ethnic group populations into a dataframe\n",
    "df = pd.DataFrame.from_dict(ethnicgroups, orient='index')\n",
    "pd.options.display.float_format = '{:20,.2f}'.format\n",
    "#Sort by the ethnic group populations to get top 10\n",
    "sorted_df = df.sort_values([0],ascending=False).head(10)\n",
    "print(sorted_df)"
   ]
  },
  {
   "cell_type": "code",
   "execution_count": 12,
   "metadata": {
    "collapsed": false
   },
   "outputs": [
    {
     "name": "stdout",
     "output_type": "stream",
     "text": [
      "Longest River:\n",
      "\t Name: Amazonas Country: Colombia Length: 6448.0\n",
      "Largest Lake:\n",
      "\t Name: Caspian Sea Country: Russia Area: 386400.0\n",
      "Highest airport:\n",
      "\t Name: El Alto Intl Country: Bolivia Elevation: 4063.0\n"
     ]
    }
   ],
   "source": [
    "#Name and country of a) longest river, b) largest lake and c) airport at highest elevation\n",
    "country_dict = {}\n",
    "#Extract each country name\n",
    "for country in document_tree.iterfind('country'):\n",
    "    country_dict[country.get('car_code')] = country.find('name').text\n",
    "rivers = []\n",
    "#Iterate through the rivers and get the lengths\n",
    "for river in document_tree.iterfind('river'):\n",
    "    for country in river.get('country').split():\n",
    "        length = river.find('length')\n",
    "        if length is None:\n",
    "            length = np.nan\n",
    "        else:\n",
    "            length = float(length.text)\n",
    "#Add to list the river name, length, and country)\n",
    "        rivers.append([river.find('name').text, length, country_dict[country]])\n",
    "#Convert list to dataframe\n",
    "river_df = pd.DataFrame(rivers, columns=['name', 'length', 'country'])\n",
    "\n",
    "#Iterate through lakes, get lake areas\n",
    "lakes = []\n",
    "for lake in document_tree.iterfind('lake'):\n",
    "    for country in lake.get('country').split():\n",
    "        area = lake.find('area')\n",
    "        if area is None:\n",
    "            area = np.nan\n",
    "        else:\n",
    "            area = float(area.text)\n",
    "#Build list of lakes and their areas and countries\n",
    "        lakes.append([lake.find('name').text, area, country_dict[country]])\n",
    "lake_df = pd.DataFrame(lakes, columns=['name', 'area', 'country'])\n",
    "\n",
    "#Iterate through airports, get elevation\n",
    "airports = []\n",
    "for airport in document_tree.iterfind('airport'):\n",
    "    for country in airport.get('country').split():\n",
    "        elevation = airport.find('elevation')\n",
    "        if elevation is None or elevation.text is None:\n",
    "            continue\n",
    "        else:\n",
    "            elevation = float(elevation.text)\n",
    "#Build list of airports and their elevation and country\n",
    "        airports.append([airport.find('name').text, elevation, country_dict[country]])\n",
    "airport_df = pd.DataFrame(airports, columns=['name', 'elevation', 'country'])\n",
    "\n",
    "#take the row with max values of river dataframe, store that row as max_river\n",
    "max_river = river_df.loc[river_df['length'].idxmax()]\n",
    "print \"Longest River:\\n\\t Name: {} Country: {} Length: {}\".format(max_river['name'], max_river['country'], max_river['length'])\n",
    "\n",
    "#take the row with max areas of lake dataframe\n",
    "max_lake = lake_df.loc[lake_df['area'].idxmax()]\n",
    "print \"Largest Lake:\\n\\t Name: {} Country: {} Area: {}\".format(max_lake['name'], max_lake['country'], max_lake['area'])\n",
    "\n",
    "#take row with max elevations of airport dataframe\n",
    "max_airport = airport_df.loc[airport_df['elevation'].idxmax()]\n",
    "print \"Highest airport:\\n\\t Name: {} Country: {} Elevation: {}\".format(max_airport['name'], max_airport['country'], max_airport['elevation'])\n",
    "\n"
   ]
  },
  {
   "cell_type": "code",
   "execution_count": null,
   "metadata": {
    "collapsed": true
   },
   "outputs": [],
   "source": []
  },
  {
   "cell_type": "code",
   "execution_count": null,
   "metadata": {
    "collapsed": true
   },
   "outputs": [],
   "source": []
  },
  {
   "cell_type": "code",
   "execution_count": null,
   "metadata": {
    "collapsed": true
   },
   "outputs": [],
   "source": []
  },
  {
   "cell_type": "code",
   "execution_count": null,
   "metadata": {
    "collapsed": true
   },
   "outputs": [],
   "source": []
  },
  {
   "cell_type": "code",
   "execution_count": null,
   "metadata": {
    "collapsed": true
   },
   "outputs": [],
   "source": []
  },
  {
   "cell_type": "code",
   "execution_count": null,
   "metadata": {
    "collapsed": true
   },
   "outputs": [],
   "source": []
  },
  {
   "cell_type": "code",
   "execution_count": null,
   "metadata": {
    "collapsed": true
   },
   "outputs": [],
   "source": []
  },
  {
   "cell_type": "code",
   "execution_count": null,
   "metadata": {
    "collapsed": true
   },
   "outputs": [],
   "source": []
  }
 ],
 "metadata": {
  "kernelspec": {
   "display_name": "Python 2",
   "language": "python",
   "name": "python2"
  },
  "language_info": {
   "codemirror_mode": {
    "name": "ipython",
    "version": 2
   },
   "file_extension": ".py",
   "mimetype": "text/x-python",
   "name": "python",
   "nbconvert_exporter": "python",
   "pygments_lexer": "ipython2",
   "version": "2.7.13"
  }
 },
 "nbformat": 4,
 "nbformat_minor": 2
}
