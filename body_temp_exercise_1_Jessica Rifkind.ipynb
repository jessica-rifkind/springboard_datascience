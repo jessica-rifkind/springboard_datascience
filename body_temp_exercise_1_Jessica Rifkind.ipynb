{
 "cells": [
  {
   "cell_type": "markdown",
   "metadata": {},
   "source": [
    "# What is the True Normal Human Body Temperature? \n",
    "\n",
    "#### Background\n",
    "\n",
    "The mean normal body temperature was held to be 37$^{\\circ}$C or 98.6$^{\\circ}$F for more than 120 years since it was first conceptualized and reported by Carl Wunderlich in a famous 1868 book. But, is this value statistically correct?"
   ]
  },
  {
   "cell_type": "markdown",
   "metadata": {},
   "source": [
    "<div class=\"span5 alert alert-info\">\n",
    "<h3>Exercises</h3>\n",
    "\n",
    "<p>In this exercise, you will analyze a dataset of human body temperatures and employ the concepts of hypothesis testing, confidence intervals, and statistical significance.</p>\n",
    "\n",
    "<p>Answer the following questions <b>in this notebook below and submit to your Github account</b>.</p> \n",
    "\n",
    "<ol>\n",
    "<li>  Is the distribution of body temperatures normal? \n",
    "    <ul>\n",
    "    <li> Although this is not a requirement for CLT to hold (read CLT carefully), it gives us some peace of mind that the population may also be normally distributed if we assume that this sample is representative of the population.\n",
    "    </ul>\n",
    "<li>  Is the sample size large? Are the observations independent?\n",
    "    <ul>\n",
    "    <li> Remember that this is a condition for the CLT, and hence the statistical tests we are using, to apply.\n",
    "    </ul>\n",
    "<li>  Is the true population mean really 98.6 degrees F?\n",
    "    <ul>\n",
    "    <li> Would you use a one-sample or two-sample test? Why?\n",
    "    <li> In this situation, is it appropriate to use the $t$ or $z$ statistic? \n",
    "    <li> Now try using the other test. How is the result be different? Why?\n",
    "    </ul>\n",
    "<li>  At what temperature should we consider someone's temperature to be \"abnormal\"?\n",
    "    <ul>\n",
    "    <li> Start by computing the margin of error and confidence interval.\n",
    "    </ul>\n",
    "<li>  Is there a significant difference between males and females in normal temperature?\n",
    "    <ul>\n",
    "    <li> What test did you use and why?\n",
    "    <li> Write a story with your conclusion in the context of the original problem.\n",
    "    </ul>\n",
    "</ol>\n",
    "\n",
    "You can include written notes in notebook cells using Markdown: \n",
    "   - In the control panel at the top, choose Cell > Cell Type > Markdown\n",
    "   - Markdown syntax: http://nestacms.com/docs/creating-content/markdown-cheat-sheet\n",
    "\n",
    "#### Resources\n",
    "\n",
    "+ Information and data sources: http://www.amstat.org/publications/jse/datasets/normtemp.txt, http://www.amstat.org/publications/jse/jse_data_archive.htm\n",
    "+ Markdown syntax: http://nestacms.com/docs/creating-content/markdown-cheat-sheet\n",
    "\n",
    "****"
   ]
  },
  {
   "cell_type": "code",
   "execution_count": 83,
   "metadata": {
    "collapsed": true
   },
   "outputs": [],
   "source": [
    "import pandas as pd\n",
    "%matplotlib inline\n",
    "import numpy as np\n",
    "\n",
    "df = pd.read_csv('data/human_body_temperature.csv')"
   ]
  },
  {
   "cell_type": "code",
   "execution_count": 84,
   "metadata": {
    "collapsed": false
   },
   "outputs": [
    {
     "data": {
      "text/plain": [
       "array([[<matplotlib.axes._subplots.AxesSubplot object at 0x10ee88410>,\n",
       "        <matplotlib.axes._subplots.AxesSubplot object at 0x10ef344d0>]], dtype=object)"
      ]
     },
     "execution_count": 84,
     "metadata": {},
     "output_type": "execute_result"
    },
    {
     "data": {
      "image/png": "[encoded data removed]",
      "text/plain": [
       "<matplotlib.figure.Figure at 0x10ee88210>"
      ]
     },
     "metadata": {},
     "output_type": "display_data"
    }
   ],
   "source": [
    "#Q: Is the distribution of body temperatures normal?\n",
    "#A: The temperature distribution appears to be normal per the graph below\n",
    "df.hist()"
   ]
  },
  {
   "cell_type": "code",
   "execution_count": 85,
   "metadata": {
    "collapsed": false
   },
   "outputs": [
    {
     "data": {
      "text/plain": [
       "130"
      ]
     },
     "execution_count": 85,
     "metadata": {},
     "output_type": "execute_result"
    }
   ],
   "source": [
    "#Is the sample size large? Are the observations independent?\n",
    "#A: The abstract doesn't mention how the data was collected so we don't know if it is independent. The sample size depends on the margin of error and significace level we want to achieve\n",
    "#Sample size\n",
    "len(df)"
   ]
  },
  {
   "cell_type": "code",
   "execution_count": 132,
   "metadata": {
    "collapsed": false
   },
   "outputs": [],
   "source": [
    "#Calculate sample mean and sample standard deviation of the temperature and the upper and lower limit of 2 standard deviations from the mean\n",
    "mean = df[\"temperature\"].mean()\n",
    "std = df[\"temperature\"].std()\n",
    "upper = mean + 2*std\n",
    "lower = mean - 2*std"
   ]
  },
  {
   "cell_type": "code",
   "execution_count": 87,
   "metadata": {
    "collapsed": false
   },
   "outputs": [
    {
     "data": {
      "text/plain": [
       "0.9461538461538461"
      ]
     },
     "execution_count": 87,
     "metadata": {},
     "output_type": "execute_result"
    }
   ],
   "source": [
    "#Calculate the percentage of datapoints within two standard deviations of the mean\n",
    "#This suggests the data is normally distributed\n",
    "within_2std = len(df[(df.temperature > lower)&(df.temperature < upper)]) \n",
    "float(within_2std)\n",
    "float(within_2std)/(len(df))"
   ]
  },
  {
   "cell_type": "code",
   "execution_count": 96,
   "metadata": {
    "collapsed": false
   },
   "outputs": [
    {
     "data": {
      "text/plain": [
       "8.6170275736900788"
      ]
     },
     "execution_count": 96,
     "metadata": {},
     "output_type": "execute_result"
    }
   ],
   "source": [
    "#Is the true population mean really 98.6 degrees F?\n",
    "#H0: the population mean is 98.6\n",
    "#H1: the population mean is not 98.6\n",
    "#Given that the sample mean is 98.25, is this unlikely enough to disprove the null hypothesis?\n",
    "#Estimate the population mean\n",
    "est_pop_std = mean/np.sqrt(len(df))\n",
    "est_pop_std"
   ]
  },
  {
   "cell_type": "code",
   "execution_count": 102,
   "metadata": {
    "collapsed": false
   },
   "outputs": [
    {
     "data": {
      "text/plain": [
       "-0.040706522959286118"
      ]
     },
     "execution_count": 102,
     "metadata": {},
     "output_type": "execute_result"
    }
   ],
   "source": [
    "#How many standard deviations away is the sample mean from assumed population mean\n",
    "z = (mean - 98.6)/est_pop_std\n",
    "z\n",
    "#Because this z-value corresponds with a .484 p-value, which for a 2-tailed test is a 96.8% probability that we could see a mean of 98.25 when the population mean is 98.6, so we cannot reject the null\n",
    "#I use a two-tailed test because I am testing that the temperature is not 98.6. I would use a one-tail if I want to test if the temperature is lower or higher than 98.6 based on my results\n",
    "#I use z instead of t because the sample is sufficiently large and the sample has a normal distribution"
   ]
  },
  {
   "cell_type": "code",
   "execution_count": 104,
   "metadata": {
    "collapsed": false
   },
   "outputs": [
    {
     "data": {
      "text/plain": [
       "129"
      ]
     },
     "execution_count": 104,
     "metadata": {},
     "output_type": "execute_result"
    }
   ],
   "source": [
    "#Run same calculation with the t test\n",
    "degrees_of_freedom = len(df) - 1\n",
    "degrees_of_freedom\n",
    "#A t-value of -0.04 and 129 degrees of freedom is off the t-table because the results are so significant"
   ]
  },
  {
   "cell_type": "code",
   "execution_count": 111,
   "metadata": {
    "collapsed": false
   },
   "outputs": [
    {
     "name": "stdout",
     "output_type": "stream",
     "text": [
      "(81.7106259556,115.489374044)\n"
     ]
    }
   ],
   "source": [
    "#Q: At what temperature should we consider someone's temperature to be \"abnormal\"?\n",
    "#Calculate a 95% CI. Find the z for a 95% CI\n",
    "z = 1.96\n",
    "MOE = z * (est_pop_std)\n",
    "CI_upper = 98.6 + MOE\n",
    "CI_lower = 98.6 - MOE\n",
    "print('('+str(CI_lower)+','+str(CI_upper)+')')\n",
    "#A: A temperature below 81.7 or above 115.5 would be considered abnormal at a 5% significance level"
   ]
  },
  {
   "cell_type": "code",
   "execution_count": 129,
   "metadata": {
    "collapsed": false
   },
   "outputs": [],
   "source": [
    "#Q: Is there a significant difference between males and females in normal temperature?\n",
    "#I will compute the standard error of the differences between the male and female temperature means\n",
    "means = df.groupby(\"gender\").mean() \n",
    "mean_f = means.loc[\"F\",\"temperature\"]\n",
    "mean_m = means.loc[\"M\",\"temperature\"]\n",
    "sample_diff = mean_m - mean_f"
   ]
  },
  {
   "cell_type": "code",
   "execution_count": 164,
   "metadata": {
    "collapsed": false
   },
   "outputs": [
    {
     "data": {
      "text/plain": [
       "0.089487156527805867"
      ]
     },
     "execution_count": 164,
     "metadata": {},
     "output_type": "execute_result"
    }
   ],
   "source": [
    "#H0: the population difference of male and female mean temperatures is 0\n",
    "#H1: there is a difference in temperatures between male and females\n",
    "#Calculate standard variances of the sample means \n",
    "variances = df.groupby(\"gender\").var()\n",
    "var_f = variances.loc[\"F\",\"temperature\"]\n",
    "var_m = variances.loc[\"M\",\"temperature\"]\n",
    "#Assume homogeneity of variance by taking the average of the male and female variances\n",
    "mse = (var_f + var_m)/2\n",
    "std_error = np.sqrt((2*mse)/len(df))\n",
    "std_error"
   ]
  },
  {
   "cell_type": "code",
   "execution_count": 165,
   "metadata": {
    "collapsed": false
   },
   "outputs": [
    {
     "data": {
      "text/plain": [
       "-3.2320925197892043"
      ]
     },
     "execution_count": 165,
     "metadata": {},
     "output_type": "execute_result"
    }
   ],
   "source": [
    "z = sample_diff/std_error\n",
    "z"
   ]
  },
  {
   "cell_type": "code",
   "execution_count": 166,
   "metadata": {
    "collapsed": false
   },
   "outputs": [
    {
     "data": {
      "text/plain": [
       "0.0012"
      ]
     },
     "execution_count": 166,
     "metadata": {},
     "output_type": "execute_result"
    }
   ],
   "source": [
    "#Probability of getting a value as extreme as -3.23 or +3.23 is 2*.0006 per the z table\n",
    "p = 2*0.0006\n",
    "p\n",
    "#The probability of getting this extreme of a value is less than 1% so we can reject the null and say that there is a statistically significant difference between male and female temperatures\n",
    "#Conclusion: Because males tend to have a lower temperature than females, it could be that early tests did not have an even spread to these two categories, which could have over or underestimated the body temperature of the populato"
   ]
  },
  {
   "cell_type": "code",
   "execution_count": 162,
   "metadata": {
    "collapsed": false
   },
   "outputs": [
    {
     "data": {
      "text/plain": [
       "gender\n",
       "F    65\n",
       "M    65\n",
       "dtype: int64"
      ]
     },
     "execution_count": 162,
     "metadata": {},
     "output_type": "execute_result"
    }
   ],
   "source": [
    "counts = df.groupby(\"gender\").size()\n",
    "counts"
   ]
  },
  {
   "cell_type": "code",
   "execution_count": 169,
   "metadata": {
    "collapsed": false
   },
   "outputs": [],
   "source": [
    "#Standard deviation of the difference \n",
    "std_diff = np.sqrt(var_f/65 + var_m/65)"
   ]
  },
  {
   "cell_type": "code",
   "execution_count": 177,
   "metadata": {
    "collapsed": false
   },
   "outputs": [
    {
     "name": "stdout",
     "output_type": "stream",
     "text": [
      "(-0.53727651205358817, -0.041185026407865838)\n"
     ]
    }
   ],
   "source": [
    "#Calculate 95% CI\n",
    "lower = sample_diff - 1.96*std_diff\n",
    "upper = sample_diff + 1.96*std_diff\n",
    "print(lower, upper)\n",
    "#Within the CI, the male temp is always lower than the female temp"
   ]
  },
  {
   "cell_type": "code",
   "execution_count": null,
   "metadata": {
    "collapsed": false
   },
   "outputs": [],
   "source": []
  },
  {
   "cell_type": "code",
   "execution_count": null,
   "metadata": {
    "collapsed": true
   },
   "outputs": [],
   "source": []
  }
 ],
 "metadata": {
  "kernelspec": {
   "display_name": "Python 2",
   "language": "python",
   "name": "python2"
  },
  "language_info": {
   "codemirror_mode": {
    "name": "ipython",
    "version": 2
   },
   "file_extension": ".py",
   "mimetype": "text/x-python",
   "name": "python",
   "nbconvert_exporter": "python",
   "pygments_lexer": "ipython2",
   "version": "2.7.13"
  }
 },
 "nbformat": 4,
 "nbformat_minor": 0
}
