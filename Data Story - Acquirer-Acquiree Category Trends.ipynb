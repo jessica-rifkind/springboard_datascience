{
 "cells": [
  {
   "cell_type": "code",
   "execution_count": 85,
   "metadata": {
    "collapsed": true
   },
   "outputs": [],
   "source": [
    "%matplotlib inline\n",
    "import pandas as pd"
   ]
  },
  {
   "cell_type": "code",
   "execution_count": 86,
   "metadata": {
    "collapsed": false
   },
   "outputs": [],
   "source": [
    "import numpy as np\n",
    "import pandas as pd\n",
    "import matplotlib.pyplot as plt"
   ]
  },
  {
   "cell_type": "code",
   "execution_count": 87,
   "metadata": {
    "collapsed": false
   },
   "outputs": [
    {
     "data": {
      "text/html": [
       "<div>\n",
       "<table border=\"1\" class=\"dataframe\">\n",
       "  <thead>\n",
       "    <tr style=\"text-align: right;\">\n",
       "      <th></th>\n",
       "      <th>company_permalink</th>\n",
       "      <th>company_name</th>\n",
       "      <th>company_category_list</th>\n",
       "      <th>company_market</th>\n",
       "      <th>company_country_code</th>\n",
       "      <th>company_state_code</th>\n",
       "      <th>company_region</th>\n",
       "      <th>company_city</th>\n",
       "      <th>acquirer_permalink</th>\n",
       "      <th>acquirer_name</th>\n",
       "      <th>...</th>\n",
       "      <th>acquirer_country_code</th>\n",
       "      <th>acquirer_state_code</th>\n",
       "      <th>acquirer_region</th>\n",
       "      <th>acquirer_city</th>\n",
       "      <th>acquired_at</th>\n",
       "      <th>acquired_month</th>\n",
       "      <th>acquired_quarter</th>\n",
       "      <th>acquired_year</th>\n",
       "      <th>price_amount</th>\n",
       "      <th>price_currency_code</th>\n",
       "    </tr>\n",
       "  </thead>\n",
       "  <tbody>\n",
       "    <tr>\n",
       "      <th>0</th>\n",
       "      <td>/organization/waywire</td>\n",
       "      <td>#waywire</td>\n",
       "      <td>|Entertainment|Politics|Social Media|News|</td>\n",
       "      <td>News</td>\n",
       "      <td>USA</td>\n",
       "      <td>NY</td>\n",
       "      <td>New York City</td>\n",
       "      <td>New York</td>\n",
       "      <td>/organization/magnify</td>\n",
       "      <td>Waywire</td>\n",
       "      <td>...</td>\n",
       "      <td>USA</td>\n",
       "      <td>NY</td>\n",
       "      <td>New York City</td>\n",
       "      <td>New York</td>\n",
       "      <td>2013-10-17 00:00:00</td>\n",
       "      <td>2013-10</td>\n",
       "      <td>2013-Q4</td>\n",
       "      <td>2013.0</td>\n",
       "      <td>NaN</td>\n",
       "      <td>USD</td>\n",
       "    </tr>\n",
       "    <tr>\n",
       "      <th>1</th>\n",
       "      <td>/organization/fluff-friends</td>\n",
       "      <td>(fluff)Friends</td>\n",
       "      <td>NaN</td>\n",
       "      <td>NaN</td>\n",
       "      <td>NaN</td>\n",
       "      <td>NaN</td>\n",
       "      <td>NaN</td>\n",
       "      <td>NaN</td>\n",
       "      <td>/organization/social-gaming-network</td>\n",
       "      <td>SGN (Social Gaming Network)</td>\n",
       "      <td>...</td>\n",
       "      <td>USA</td>\n",
       "      <td>CA</td>\n",
       "      <td>Los Angeles</td>\n",
       "      <td>Beverly Hills</td>\n",
       "      <td>2008-09-16 00:00:00</td>\n",
       "      <td>2008-09</td>\n",
       "      <td>2008-Q3</td>\n",
       "      <td>2008.0</td>\n",
       "      <td>NaN</td>\n",
       "      <td>USD</td>\n",
       "    </tr>\n",
       "    <tr>\n",
       "      <th>2</th>\n",
       "      <td>/organization/red</td>\n",
       "      <td>(RED)</td>\n",
       "      <td>|Nonprofits|</td>\n",
       "      <td>Nonprofits</td>\n",
       "      <td>USA</td>\n",
       "      <td>NY</td>\n",
       "      <td>New York City</td>\n",
       "      <td>New York</td>\n",
       "      <td>/organization/nationstar-mortgage-holdings</td>\n",
       "      <td>Nationstar Mortgage Holdings</td>\n",
       "      <td>...</td>\n",
       "      <td>USA</td>\n",
       "      <td>TX</td>\n",
       "      <td>Dallas</td>\n",
       "      <td>Lewisville</td>\n",
       "      <td>2014-05-08 00:00:00</td>\n",
       "      <td>2014-05</td>\n",
       "      <td>2014-Q2</td>\n",
       "      <td>2014.0</td>\n",
       "      <td>18,000,000</td>\n",
       "      <td>USD</td>\n",
       "    </tr>\n",
       "    <tr>\n",
       "      <th>3</th>\n",
       "      <td>/organization/co-internet</td>\n",
       "      <td>.CO</td>\n",
       "      <td>|Registrars|Domains|Curated Web|</td>\n",
       "      <td>Registrars</td>\n",
       "      <td>USA</td>\n",
       "      <td>FL</td>\n",
       "      <td>Miami</td>\n",
       "      <td>Miami</td>\n",
       "      <td>/organization/neustar</td>\n",
       "      <td>Neustar</td>\n",
       "      <td>...</td>\n",
       "      <td>USA</td>\n",
       "      <td>VA</td>\n",
       "      <td>Sterling</td>\n",
       "      <td>Sterling</td>\n",
       "      <td>2014-03-20 00:00:00</td>\n",
       "      <td>2014-03</td>\n",
       "      <td>2014-Q1</td>\n",
       "      <td>2014.0</td>\n",
       "      <td>109,000,000</td>\n",
       "      <td>USD</td>\n",
       "    </tr>\n",
       "    <tr>\n",
       "      <th>4</th>\n",
       "      <td>/organization/vantronix</td>\n",
       "      <td>.vantronix</td>\n",
       "      <td>|Cloud Security|Network Security|Security|</td>\n",
       "      <td>Cloud Security</td>\n",
       "      <td>DEU</td>\n",
       "      <td>NaN</td>\n",
       "      <td>Hanover</td>\n",
       "      <td>Hanover</td>\n",
       "      <td>/organization/compumatica</td>\n",
       "      <td>Compumatica</td>\n",
       "      <td>...</td>\n",
       "      <td>NaN</td>\n",
       "      <td>NaN</td>\n",
       "      <td>NaN</td>\n",
       "      <td>NaN</td>\n",
       "      <td>2011-01-01 00:00:00</td>\n",
       "      <td>2011-01</td>\n",
       "      <td>2011-Q1</td>\n",
       "      <td>2011.0</td>\n",
       "      <td>NaN</td>\n",
       "      <td>USD</td>\n",
       "    </tr>\n",
       "  </tbody>\n",
       "</table>\n",
       "<p>5 rows × 22 columns</p>\n",
       "</div>"
      ],
      "text/plain": [
       "             company_permalink    company_name  \\\n",
       "0        /organization/waywire        #waywire   \n",
       "1  /organization/fluff-friends  (fluff)Friends   \n",
       "2            /organization/red           (RED)   \n",
       "3    /organization/co-internet             .CO   \n",
       "4      /organization/vantronix      .vantronix   \n",
       "\n",
       "                        company_category_list  company_market  \\\n",
       "0  |Entertainment|Politics|Social Media|News|            News   \n",
       "1                                         NaN             NaN   \n",
       "2                                |Nonprofits|      Nonprofits   \n",
       "3            |Registrars|Domains|Curated Web|      Registrars   \n",
       "4  |Cloud Security|Network Security|Security|  Cloud Security   \n",
       "\n",
       "  company_country_code company_state_code company_region company_city  \\\n",
       "0                  USA                 NY  New York City     New York   \n",
       "1                  NaN                NaN            NaN          NaN   \n",
       "2                  USA                 NY  New York City     New York   \n",
       "3                  USA                 FL          Miami        Miami   \n",
       "4                  DEU                NaN        Hanover      Hanover   \n",
       "\n",
       "                           acquirer_permalink                 acquirer_name  \\\n",
       "0                       /organization/magnify                       Waywire   \n",
       "1         /organization/social-gaming-network   SGN (Social Gaming Network)   \n",
       "2  /organization/nationstar-mortgage-holdings  Nationstar Mortgage Holdings   \n",
       "3                       /organization/neustar                       Neustar   \n",
       "4                   /organization/compumatica                   Compumatica   \n",
       "\n",
       "          ...          acquirer_country_code acquirer_state_code  \\\n",
       "0         ...                            USA                  NY   \n",
       "1         ...                            USA                  CA   \n",
       "2         ...                            USA                  TX   \n",
       "3         ...                            USA                  VA   \n",
       "4         ...                            NaN                 NaN   \n",
       "\n",
       "  acquirer_region  acquirer_city          acquired_at acquired_month  \\\n",
       "0   New York City       New York  2013-10-17 00:00:00        2013-10   \n",
       "1     Los Angeles  Beverly Hills  2008-09-16 00:00:00        2008-09   \n",
       "2          Dallas     Lewisville  2014-05-08 00:00:00        2014-05   \n",
       "3        Sterling       Sterling  2014-03-20 00:00:00        2014-03   \n",
       "4             NaN            NaN  2011-01-01 00:00:00        2011-01   \n",
       "\n",
       "  acquired_quarter acquired_year price_amount  price_currency_code  \n",
       "0          2013-Q4        2013.0          NaN                  USD  \n",
       "1          2008-Q3        2008.0          NaN                  USD  \n",
       "2          2014-Q2        2014.0   18,000,000                  USD  \n",
       "3          2014-Q1        2014.0  109,000,000                  USD  \n",
       "4          2011-Q1        2011.0          NaN                  USD  \n",
       "\n",
       "[5 rows x 22 columns]"
      ]
     },
     "execution_count": 87,
     "metadata": {},
     "output_type": "execute_result"
    }
   ],
   "source": [
    "#Import csv\n",
    "acq = pd.DataFrame.from_csv('/Users/jessica/Documents/Data Story/crunchbase_acquisitions.csv', index_col=None)\n",
    "acq.head()"
   ]
  },
  {
   "cell_type": "code",
   "execution_count": 88,
   "metadata": {
    "collapsed": false
   },
   "outputs": [
    {
     "data": {
      "text/plain": [
       "Software acquires Software                          500\n",
       "Biotechnology acquires Biotechnology                294\n",
       "Enterprise Software acquires Software               140\n",
       "Software acquires Enterprise Software               119\n",
       "Curated Web acquires Curated Web                     99\n",
       "Semiconductors acquires Semiconductors               98\n",
       "Software acquires Curated Web                        89\n",
       "Games acquires Games                                 80\n",
       "Advertising acquires Advertising                     77\n",
       "Enterprise Software acquires Enterprise Software     65\n",
       "Name: combo, dtype: int64"
      ]
     },
     "execution_count": 88,
     "metadata": {},
     "output_type": "execute_result"
    }
   ],
   "source": [
    "#Create a column that shows combinations of acquirer market and acquiree market to see the most common combinations\n",
    "acq['combo']=acq.acquirer_market+\" acquires \"+acq.company_market\n",
    "acq_counts_top10 = acq.combo.value_counts().head(10)\n",
    "acq_counts_top10"
   ]
  },
  {
   "cell_type": "code",
   "execution_count": 89,
   "metadata": {
    "collapsed": false
   },
   "outputs": [
    {
     "data": {
      "text/plain": [
       "<matplotlib.text.Text at 0x12cd32bd0>"
      ]
     },
     "execution_count": 89,
     "metadata": {},
     "output_type": "execute_result"
    },
    {
     "data": {
      "image/png": "[encoded data removed]",
      "text/plain": [
       "<matplotlib.figure.Figure at 0x12cd30f90>"
      ]
     },
     "metadata": {},
     "output_type": "display_data"
    }
   ],
   "source": [
    "#Plot most common combinations\n",
    "plot1 = acq_counts_top10.plot(kind='barh')\n",
    "plot1.set_title(\"Which company markets acquire which company markets?\",fontsize=17)\n",
    "plot1.set_xlabel(\"Count\",fontsize=15)\n",
    "\n",
    "#Insight: the most common combination is software acquiring software. Enterprise software acquires software more often than vice versa, which is intuitive"
   ]
  },
  {
   "cell_type": "code",
   "execution_count": 112,
   "metadata": {
    "collapsed": false
   },
   "outputs": [
    {
     "data": {
      "text/plain": [
       "acquirer_market\n",
       "Digital Signage    1.000000\n",
       "Nutrition          1.000000\n",
       "Craft Beer         1.000000\n",
       "Incentives         1.000000\n",
       "Cosmetics          0.666667\n",
       "Biotechnology      0.609959\n",
       "Agriculture        0.600000\n",
       "Food Processing    0.555556\n",
       "Tablets            0.500000\n",
       "Nanotechnology     0.500000\n",
       "dtype: float64"
      ]
     },
     "execution_count": 112,
     "metadata": {},
     "output_type": "execute_result"
    }
   ],
   "source": [
    "#Create a series for each row that says whether or not the acquiring company and acquiree are the same market or different\n",
    "#The series method\n",
    "acquirer_market = list(acq.acquirer_market)\n",
    "company_market = list(acq.company_market)\n",
    "comparison = []\n",
    "for company in range(len(acq.acquirer_market)):\n",
    "    if acquirer_market[company] == company_market[company]:\n",
    "        comparison.append('same')\n",
    "    else: \n",
    "        comparison.append('different')\n",
    "#Answer the question, for which markets was the highest percentage of in-market acquisitions (company same market as acquiror)\n",
    "acq['compare_markets']=comparison\n",
    "market_comp = acq.groupby(['acquirer_market','compare_markets']).size()\n",
    "un = market_comp.unstack().fillna(0)\n",
    "df_market_comp = un['same']/(un['different']+un['same'])\n",
    "df_market_comp.sort_values(ascending=False).head(10)\n",
    "\n",
    "#Insight: for acquisitions in the digital signage, nutrition, craft beer, and incentives markets, 100% of acqusitions were in-market"
   ]
  },
  {
   "cell_type": "code",
   "execution_count": 118,
   "metadata": {
    "collapsed": false
   },
   "outputs": [
    {
     "data": {
      "text/plain": [
       "acquirer_market\n",
       "Digital Signage    1.000000\n",
       "Nutrition          1.000000\n",
       "Craft Beer         1.000000\n",
       "Incentives         1.000000\n",
       "Cosmetics          0.666667\n",
       "Biotechnology      0.609959\n",
       "Agriculture        0.600000\n",
       "Food Processing    0.555556\n",
       "Tablets            0.500000\n",
       "Nanotechnology     0.500000\n",
       "dtype: float64"
      ]
     },
     "execution_count": 118,
     "metadata": {},
     "output_type": "execute_result"
    }
   ],
   "source": [
    "#Now answering the same as the previous question with the dataframe method\n",
    "acq['comparison_dfmethod'] = 'different'\n",
    "acq.loc[acq.acquirer_market==acq.company_market,'comparison_dfmethod'] = 'same'\n",
    "market_comp2 = acq.groupby(['acquirer_market','comparison_dfmethod']).size()\n",
    "un2 = market_comp2.unstack().fillna(0)\n",
    "df_market_comp2 = un2['same']/(un2['different']+un['same'])\n",
    "df_market_comp2.sort_values(ascending=False).head(10)\n",
    "#Same answer"
   ]
  },
  {
   "cell_type": "code",
   "execution_count": 124,
   "metadata": {
    "collapsed": false
   },
   "outputs": [
    {
     "data": {
      "text/plain": [
       "SF Bay Area acquires SF Bay Area        830\n",
       "New York City acquires New York City    147\n",
       "New York City acquires SF Bay Area       99\n",
       "SF Bay Area acquires New York City       91\n",
       "SF Bay Area acquires Boston              81\n",
       "Name: region_to_region, dtype: int64"
      ]
     },
     "execution_count": 124,
     "metadata": {},
     "output_type": "execute_result"
    },
    {
     "data": {
      "image/png": "[encoded data removed]",
      "text/plain": [
       "<matplotlib.figure.Figure at 0x12d841d10>"
      ]
     },
     "metadata": {},
     "output_type": "display_data"
    }
   ],
   "source": [
    "#Which regions acquire which regions most frequently?\n",
    "#Create a column that shows combinations of acquirer region and acquiree region to see the most common combinations\n",
    "acq['region_to_region']=acq.acquirer_region+\" acquires \"+acq.company_region\n",
    "acq_region_counts = acq.region_to_region.value_counts()\n",
    "plot2 = acq_region_counts.head(10).plot(kind='barh')\n",
    "plot2.set_title(\"Which regions acquire which company regions?\",fontsize=17)\n",
    "plot2.set_xlabel(\"Count\",fontsize=15)\n",
    "acq_region_counts.head()\n",
    "\n",
    "#Insights: SF acquires SF companies over 5X as frequently as NYC acquires NYC companies. NYC acquires SF companies slightly more often than SF acquires NYC companies (+8.8% higher count)"
   ]
  },
  {
   "cell_type": "code",
   "execution_count": 142,
   "metadata": {
    "collapsed": false
   },
   "outputs": [
    {
     "data": {
      "text/html": [
       "<div>\n",
       "<table border=\"1\" class=\"dataframe\">\n",
       "  <thead>\n",
       "    <tr style=\"text-align: right;\">\n",
       "      <th>acquired_year</th>\n",
       "      <th>1986.0</th>\n",
       "      <th>1991.0</th>\n",
       "      <th>1993.0</th>\n",
       "      <th>1994.0</th>\n",
       "      <th>1995.0</th>\n",
       "      <th>1996.0</th>\n",
       "      <th>1997.0</th>\n",
       "      <th>1998.0</th>\n",
       "      <th>1999.0</th>\n",
       "      <th>2000.0</th>\n",
       "      <th>...</th>\n",
       "      <th>2005.0</th>\n",
       "      <th>2006.0</th>\n",
       "      <th>2007.0</th>\n",
       "      <th>2008.0</th>\n",
       "      <th>2009.0</th>\n",
       "      <th>2010.0</th>\n",
       "      <th>2011.0</th>\n",
       "      <th>2012.0</th>\n",
       "      <th>2013.0</th>\n",
       "      <th>2014.0</th>\n",
       "    </tr>\n",
       "    <tr>\n",
       "      <th>region_to_region</th>\n",
       "      <th></th>\n",
       "      <th></th>\n",
       "      <th></th>\n",
       "      <th></th>\n",
       "      <th></th>\n",
       "      <th></th>\n",
       "      <th></th>\n",
       "      <th></th>\n",
       "      <th></th>\n",
       "      <th></th>\n",
       "      <th></th>\n",
       "      <th></th>\n",
       "      <th></th>\n",
       "      <th></th>\n",
       "      <th></th>\n",
       "      <th></th>\n",
       "      <th></th>\n",
       "      <th></th>\n",
       "      <th></th>\n",
       "      <th></th>\n",
       "      <th></th>\n",
       "    </tr>\n",
       "  </thead>\n",
       "  <tbody>\n",
       "    <tr>\n",
       "      <th>New York City acquires New York City</th>\n",
       "      <td>1.0</td>\n",
       "      <td>0.0</td>\n",
       "      <td>1.0</td>\n",
       "      <td>0.0</td>\n",
       "      <td>0.0</td>\n",
       "      <td>0.0</td>\n",
       "      <td>0.0</td>\n",
       "      <td>0.0</td>\n",
       "      <td>1.0</td>\n",
       "      <td>0.0</td>\n",
       "      <td>...</td>\n",
       "      <td>3.0</td>\n",
       "      <td>4.0</td>\n",
       "      <td>10.0</td>\n",
       "      <td>5.0</td>\n",
       "      <td>14.0</td>\n",
       "      <td>19.0</td>\n",
       "      <td>21.0</td>\n",
       "      <td>24.0</td>\n",
       "      <td>28.0</td>\n",
       "      <td>13.0</td>\n",
       "    </tr>\n",
       "    <tr>\n",
       "      <th>SF Bay Area acquires SF Bay Area</th>\n",
       "      <td>0.0</td>\n",
       "      <td>1.0</td>\n",
       "      <td>0.0</td>\n",
       "      <td>1.0</td>\n",
       "      <td>2.0</td>\n",
       "      <td>2.0</td>\n",
       "      <td>3.0</td>\n",
       "      <td>2.0</td>\n",
       "      <td>6.0</td>\n",
       "      <td>7.0</td>\n",
       "      <td>...</td>\n",
       "      <td>15.0</td>\n",
       "      <td>19.0</td>\n",
       "      <td>60.0</td>\n",
       "      <td>52.0</td>\n",
       "      <td>76.0</td>\n",
       "      <td>96.0</td>\n",
       "      <td>115.0</td>\n",
       "      <td>102.0</td>\n",
       "      <td>141.0</td>\n",
       "      <td>100.0</td>\n",
       "    </tr>\n",
       "  </tbody>\n",
       "</table>\n",
       "<p>2 rows × 24 columns</p>\n",
       "</div>"
      ],
      "text/plain": [
       "acquired_year                         1986.0  1991.0  1993.0  1994.0  1995.0  \\\n",
       "region_to_region                                                               \n",
       "New York City acquires New York City     1.0     0.0     1.0     0.0     0.0   \n",
       "SF Bay Area acquires SF Bay Area         0.0     1.0     0.0     1.0     2.0   \n",
       "\n",
       "acquired_year                         1996.0  1997.0  1998.0  1999.0  2000.0  \\\n",
       "region_to_region                                                               \n",
       "New York City acquires New York City     0.0     0.0     0.0     1.0     0.0   \n",
       "SF Bay Area acquires SF Bay Area         2.0     3.0     2.0     6.0     7.0   \n",
       "\n",
       "acquired_year                          ...    2005.0  2006.0  2007.0  2008.0  \\\n",
       "region_to_region                       ...                                     \n",
       "New York City acquires New York City   ...       3.0     4.0    10.0     5.0   \n",
       "SF Bay Area acquires SF Bay Area       ...      15.0    19.0    60.0    52.0   \n",
       "\n",
       "acquired_year                         2009.0  2010.0  2011.0  2012.0  2013.0  \\\n",
       "region_to_region                                                               \n",
       "New York City acquires New York City    14.0    19.0    21.0    24.0    28.0   \n",
       "SF Bay Area acquires SF Bay Area        76.0    96.0   115.0   102.0   141.0   \n",
       "\n",
       "acquired_year                         2014.0  \n",
       "region_to_region                              \n",
       "New York City acquires New York City    13.0  \n",
       "SF Bay Area acquires SF Bay Area       100.0  \n",
       "\n",
       "[2 rows x 24 columns]"
      ]
     },
     "execution_count": 142,
     "metadata": {},
     "output_type": "execute_result"
    }
   ],
   "source": [
    "#What is the year over year progression of SF to SF acquisitions and NYC to NYC acquisitions?\n",
    "acq_limited=acq[(acq.region_to_region=='SF Bay Area acquires SF Bay Area')|(acq.region_to_region=='New York City acquires New York City')]\n",
    "acq_series = acq_limited.groupby(['region_to_region','acquired_year']).size()\n",
    "acq_yoy = acq_series.unstack().fillna(0)\n",
    "acq_yoy"
   ]
  },
  {
   "cell_type": "code",
   "execution_count": 184,
   "metadata": {
    "collapsed": false
   },
   "outputs": [
    {
     "data": {
      "text/plain": [
       "<matplotlib.text.Text at 0x12d6e0510>"
      ]
     },
     "execution_count": 184,
     "metadata": {},
     "output_type": "execute_result"
    },
    {
     "data": {
      "image/png": "[encoded data removed]",
      "text/plain": [
       "<matplotlib.figure.Figure at 0x12d7190d0>"
      ]
     },
     "metadata": {},
     "output_type": "display_data"
    }
   ],
   "source": [
    "#Plot-- I can't figure out how to make SF and NYC separate series and lines. Hard to tell what is being plotted here..\n",
    "plot3 = acq_un = acq_yoy.unstack().plot(kind='line')\n",
    "plot3.set_title(\"How many SF to SF and NYC to NYC acquisitions occur each year?\",fontsize=17)\n",
    "plot3.set_xlabel(\"Year\",fontsize=15)\n",
    "plot3.set_ylabel(\"Number of Acquisitions\",fontsize=15)"
   ]
  }
 ],
 "metadata": {
  "kernelspec": {
   "display_name": "Python 2",
   "language": "python",
   "name": "python2"
  },
  "language_info": {
   "codemirror_mode": {
    "name": "ipython",
    "version": 2
   },
   "file_extension": ".py",
   "mimetype": "text/x-python",
   "name": "python",
   "nbconvert_exporter": "python",
   "pygments_lexer": "ipython2",
   "version": "2.7.13"
  }
 },
 "nbformat": 4,
 "nbformat_minor": 2
}
